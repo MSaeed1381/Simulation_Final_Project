{
 "cells": [
  {
   "cell_type": "markdown",
   "metadata": {
    "pycharm": {
     "name": "#%%\n"
    }
   },
   "source": [
    "<h1 style=\"color:blue\">Simulation Project Part 6</h1>\n",
    "<h1>Mohammad Saeed Zare Mehrjardi - 99243037</h1>\n",
    "<h1>Zahra Sadat Esmati Baygi - 99243053 </h1>"
   ]
  },
  {
   "cell_type": "code",
   "execution_count": 31,
   "metadata": {
    "pycharm": {
     "name": "#%%\n"
    }
   },
   "outputs": [],
   "source": [
    "import networkx as nx\n",
    "import matplotlib.pyplot as plt\n",
    "import matplotlib.mlab as mlab\n",
    "import numpy as np\n",
    "import math\n",
    "import random\n",
    "from scipy.stats import norm\n",
    "import scipy\n",
    "import sys\n",
    "import graph as gr\n",
    "import seaborn as sns\n",
    "import pandas as pd"
   ]
  },
  {
   "cell_type": "markdown",
   "source": [
    "# Draw PDF Plot"
   ],
   "metadata": {
    "collapsed": false,
    "pycharm": {
     "name": "#%% md\n"
    }
   }
  },
  {
   "cell_type": "code",
   "execution_count": null,
   "outputs": [],
   "source": [
    "def draw_plot(x, y, xlabel=\"\", ylable=\"\", title=\"\"):\n",
    "    # Calculate additional statistics\n",
    "    mean = np.mean(y)\n",
    "    std = np.std(y)\n",
    "\n",
    "    # CI\n",
    "    lower_ci = y - np.mean(y) / np.sqrt(len(y))\n",
    "    upper_ci = y + np.mean(y) / np.sqrt(len(y))\n",
    "\n",
    "    # Create the figure and axes\n",
    "    fig, ax = plt.subplots()\n",
    "\n",
    "    # Plot the curve and fill between the CI\n",
    "    ax.plot(x, y, color='b', label=title)\n",
    "    ax.fill_between(x, lower_ci, upper_ci, color='lightblue', alpha=0.7 , label='CI')\n",
    "\n",
    "    # Set the title and labels\n",
    "    ax.set_title(title)\n",
    "    ax.set_xlabel(xlabel)\n",
    "    ax.set_ylabel(ylable)\n",
    "\n",
    "    # Customize the ticks and grid\n",
    "    ax.xaxis.set_tick_params(which='both', direction='in', bottom=True, top=True)\n",
    "    ax.yaxis.set_tick_params(which='both', direction='in', left=True, right=True)\n",
    "    ax.grid(True, linestyle='--', alpha=0.5)\n",
    "\n",
    "    # Add a legend\n",
    "    ax.legend(loc='upper right')\n",
    "\n",
    "    # Add statistics annotations\n",
    "    ax.text(0.1, 0.9, f\"Mean: {mean:.2f}\", transform=ax.transAxes)\n",
    "    ax.text(0.1, 0.85, f\"Standard Deviation: {std:.2f}\", transform=ax.transAxes)\n",
    "\n",
    "    # Customize the figure background\n",
    "    fig.patch.set_facecolor('lightgray')\n",
    "\n",
    "    # Show the plot\n",
    "    plt.show()"
   ],
   "metadata": {
    "collapsed": false,
    "pycharm": {
     "name": "#%%\n"
    }
   }
  },
  {
   "cell_type": "markdown",
   "source": [
    "# Sample k-Regular Graph"
   ],
   "metadata": {
    "collapsed": false,
    "pycharm": {
     "name": "#%% md\n"
    }
   }
  },
  {
   "cell_type": "code",
   "execution_count": null,
   "outputs": [],
   "source": [
    "n = 10\n",
    "d = 3\n",
    "seed = 60\n",
    "\n",
    "rg = nx.random_regular_graph(d, n, seed)\n",
    "\n",
    "nx.draw(rg, with_labels=True)\n",
    "plt.show()"
   ],
   "metadata": {
    "collapsed": false,
    "pycharm": {
     "name": "#%%\n"
    }
   }
  },
  {
   "cell_type": "markdown",
   "source": [
    "# Compate two sets of Graph (RSRBG vs K-Regular)\n",
    "## N = 496 , average degree = 6"
   ],
   "metadata": {
    "collapsed": false,
    "pycharm": {
     "name": "#%% md\n"
    }
   }
  },
  {
   "cell_type": "markdown",
   "source": [
    "# Create 1000 k-regular graph dataset "
   ],
   "metadata": {
    "collapsed": false,
    "pycharm": {
     "name": "#%% md\n"
    }
   }
  },
  {
   "cell_type": "code",
   "execution_count": null,
   "outputs": [],
   "source": [
    "# create dataset of 6-regular graph with size 500 (1000 graphs)\n",
    "number_of_simulation = 50\n",
    "n = 496\n",
    "d = 6\n",
    "seed = 60\n",
    "\n",
    "reg_graphs = []\n",
    "rg_degrees = []\n",
    "rg_eigens = []\n",
    "for _ in range(number_of_simulation):\n",
    "    rg = nx.random_regular_graph(d, n, seed)\n",
    "    \n",
    "    rg_degrees += [d for n, d in rg.degree()]\n",
    "    rg_eigens += gr.complex_abs(gr.adjacency_eigen_values(rg))\n",
    "    \n",
    "    reg_graphs.append(rg)"
   ],
   "metadata": {
    "collapsed": false,
    "pycharm": {
     "name": "#%%\n"
    }
   }
  },
  {
   "cell_type": "markdown",
   "source": [
    "### Degree Distribution"
   ],
   "metadata": {
    "collapsed": false,
    "pycharm": {
     "name": "#%% md\n"
    }
   }
  },
  {
   "cell_type": "code",
   "execution_count": null,
   "outputs": [],
   "source": [
    "sns.displot(rg_degrees, kde=True, color=\"black\")"
   ],
   "metadata": {
    "collapsed": false,
    "pycharm": {
     "name": "#%%\n"
    }
   }
  },
  {
   "cell_type": "markdown",
   "source": [
    "### Eigen Values Distribution"
   ],
   "metadata": {
    "collapsed": false,
    "pycharm": {
     "name": "#%% md\n"
    }
   }
  },
  {
   "cell_type": "code",
   "execution_count": null,
   "outputs": [],
   "source": [
    "sns.displot(rg_eigens, kde=True, color=\"black\")"
   ],
   "metadata": {
    "collapsed": false,
    "pycharm": {
     "name": "#%%\n"
    }
   }
  },
  {
   "cell_type": "markdown",
   "source": [
    "### Calculate Probability of inconsistency"
   ],
   "metadata": {
    "collapsed": false,
    "pycharm": {
     "name": "#%% md\n"
    }
   }
  },
  {
   "cell_type": "code",
   "execution_count": null,
   "outputs": [],
   "source": [
    "table = []\n",
    "\n",
    "# cut from 1 to 50 %\n",
    "for cut in range(1, 50):\n",
    "    disconnected = 0\n",
    "    \n",
    "    for reg in reg_graphs:\n",
    "        reg_copy = reg.copy()\n",
    "        n = len(list(reg_copy.edges()))\n",
    "        number_of_cuts = (cut * n) / 100\n",
    "        \n",
    "        nc = 0\n",
    "        ec = 0\n",
    "        ac = 0\n",
    "        \n",
    "        for _ in range(int(number_of_cuts)):\n",
    "            if len(list(reg_copy.edges())) > 0:\n",
    "                selected = random.choice(list(reg_copy.edges()))\n",
    "                reg_copy.remove_edge(selected[0], selected[1])\n",
    "                \n",
    "        \n",
    "        nc += nx.node_connectivity(reg_copy)\n",
    "        ec += nx.edge_connectivity(reg_copy)\n",
    "        ac += gr.algebraic_connectivity(reg_copy)\n",
    "        \n",
    "        connected = True\n",
    "        if not nx.is_connected(reg_copy):\n",
    "            connected = False \n",
    "            disconnected += 1\n",
    "        \n",
    "        \n",
    "            \n",
    "    print(disconnected)\n",
    "    p = disconnected / len(reg_graphs)\n",
    "    \n",
    "    table.append([cut, number_of_cuts, disconnected, p, nc/len(reg_graphs), ec/len(reg_graphs), ac/len(reg_graphs)])\n",
    "        \n",
    "        "
   ],
   "metadata": {
    "collapsed": false,
    "pycharm": {
     "name": "#%%\n"
    }
   }
  },
  {
   "cell_type": "code",
   "execution_count": null,
   "outputs": [],
   "source": [
    "df = pd.DataFrame(table, columns=['cut(%)', 'number of cuts', 'number of disconnected', 'possibility of inconsistency',\n",
    "                                 'node connectivity', 'edge connectivity', 'algebratic connectivity'])\n",
    "df"
   ],
   "metadata": {
    "collapsed": false,
    "pycharm": {
     "name": "#%%\n"
    }
   }
  },
  {
   "cell_type": "markdown",
   "source": [
    "### 6-Regular Probability Of Inconsistancy"
   ],
   "metadata": {
    "collapsed": false,
    "pycharm": {
     "name": "#%% md\n"
    }
   }
  },
  {
   "cell_type": "code",
   "execution_count": null,
   "outputs": [],
   "source": [
    "c = df['cut(%)']\n",
    "p = df['possibility of inconsistency']\n",
    "\n",
    "draw_plot(c, p, \"cut(%)\", \"possibility of inconsistency\", \"possibility of inconsistency pdf\")"
   ],
   "metadata": {
    "collapsed": false,
    "pycharm": {
     "name": "#%%\n"
    }
   }
  },
  {
   "cell_type": "markdown",
   "source": [
    "### 6-Regular Node Connectivity"
   ],
   "metadata": {
    "collapsed": false,
    "pycharm": {
     "name": "#%% md\n"
    }
   }
  },
  {
   "cell_type": "code",
   "execution_count": null,
   "outputs": [],
   "source": [
    "c = df['cut(%)']\n",
    "p = df['node connectivity']\n",
    "\n",
    "draw_plot(c, p, \"cut(%)\", \"node connectivity\", \"node connectivity pdf\")"
   ],
   "metadata": {
    "collapsed": false,
    "pycharm": {
     "name": "#%%\n"
    }
   }
  },
  {
   "cell_type": "markdown",
   "source": [
    "### 6-Regular Edge Connectivity"
   ],
   "metadata": {
    "collapsed": false,
    "pycharm": {
     "name": "#%% md\n"
    }
   }
  },
  {
   "cell_type": "code",
   "execution_count": null,
   "outputs": [],
   "source": [
    "c = df['cut(%)']\n",
    "p = df['edge connectivity']\n",
    "\n",
    "draw_plot(c, p, \"cut(%)\", \"edge connectivity\", \"edge connectivity pdf\")"
   ],
   "metadata": {
    "collapsed": false,
    "pycharm": {
     "name": "#%%\n"
    }
   }
  },
  {
   "cell_type": "markdown",
   "source": [
    "### 6-Regular algebratic Connectivity"
   ],
   "metadata": {
    "collapsed": false,
    "pycharm": {
     "name": "#%% md\n"
    }
   }
  },
  {
   "cell_type": "code",
   "execution_count": null,
   "outputs": [],
   "source": [
    "c = df['cut(%)']\n",
    "p = df['algebratic connectivity']\n",
    "\n",
    "draw_plot(c, p, \"cut(%)\", \"algebratic connectivity\", \"algebratic connectivity pdf\")"
   ],
   "metadata": {
    "collapsed": false,
    "pycharm": {
     "name": "#%%\n"
    }
   }
  },
  {
   "cell_type": "code",
   "execution_count": null,
   "outputs": [],
   "source": [
    "# Create 1000 RSRBG graph dataset"
   ],
   "metadata": {
    "collapsed": false,
    "pycharm": {
     "name": "#%%\n"
    }
   }
  },
  {
   "cell_type": "code",
   "execution_count": null,
   "outputs": [],
   "source": [
    "# create dataset of 6-regular graph with size 500 (1000 graphs)\n",
    "number_of_simulation = 50\n",
    "n = 496\n",
    "d1 = 4\n",
    "d2 = 12\n",
    "\n",
    "rsrbg_graphs = []\n",
    "rsrbg_degrees = []\n",
    "rsrbg_eigens = []\n",
    "for _ in range(number_of_simulation):\n",
    "    rsrbg = gr.RSRBG(n, d1, d2)[0]\n",
    "    \n",
    "    rsrbg_degrees += [d for n, d in rsrbg.degree()]\n",
    "    rsrbg_eigens += gr.complex_abs(gr.adjacency_eigen_values(rsrbg))\n",
    "    \n",
    "    rsrbg_graphs.append(rsrbg)"
   ],
   "metadata": {
    "collapsed": false,
    "pycharm": {
     "name": "#%%\n"
    }
   }
  },
  {
   "cell_type": "markdown",
   "source": [
    "### RSRBG Degree Distribution"
   ],
   "metadata": {
    "collapsed": false,
    "pycharm": {
     "name": "#%% md\n"
    }
   }
  },
  {
   "cell_type": "code",
   "execution_count": null,
   "outputs": [],
   "source": [
    "sns.displot(rsrbg_degrees, kde=True, color=\"black\")"
   ],
   "metadata": {
    "collapsed": false,
    "pycharm": {
     "name": "#%%\n"
    }
   }
  },
  {
   "cell_type": "markdown",
   "source": [
    "### RSRBG Eigen Values Distribution"
   ],
   "metadata": {
    "collapsed": false,
    "pycharm": {
     "name": "#%% md\n"
    }
   }
  },
  {
   "cell_type": "code",
   "execution_count": null,
   "outputs": [],
   "source": [
    "sns.displot(rsrbg_eigens, kde=True, color=\"black\")"
   ],
   "metadata": {
    "collapsed": false,
    "pycharm": {
     "name": "#%%\n"
    }
   }
  },
  {
   "cell_type": "markdown",
   "source": [
    "### Calculate Probability of inconsistency"
   ],
   "metadata": {
    "collapsed": false,
    "pycharm": {
     "name": "#%% md\n"
    }
   }
  },
  {
   "cell_type": "code",
   "execution_count": null,
   "outputs": [],
   "source": [
    "rsrbg_table = []\n",
    "\n",
    "# cut from 1 to 50 %\n",
    "for cut in range(1, 50):\n",
    "    disconnected = 0\n",
    "    \n",
    "    for reg in rsrbg_graphs:\n",
    "        reg_copy = reg.copy()\n",
    "        n = len(list(reg_copy.edges()))\n",
    "        number_of_cuts = (cut * n) / 100\n",
    "        \n",
    "        nc = 0\n",
    "        ec = 0\n",
    "        ac = 0\n",
    "        \n",
    "        for _ in range(int(number_of_cuts)):\n",
    "            if len(list(reg_copy.edges())) > 0:\n",
    "                selected = random.choice(list(reg_copy.edges()))\n",
    "                reg_copy.remove_edge(selected[0], selected[1])\n",
    "        \n",
    "        nc += nx.node_connectivity(reg_copy)\n",
    "        ec += nx.edge_connectivity(reg_copy)\n",
    "        ac += gr.algebraic_connectivity(reg_copy)\n",
    "                \n",
    "        \n",
    "        connected = True\n",
    "        if not nx.is_connected(reg_copy):\n",
    "            connected = False \n",
    "            disconnected += 1\n",
    "            \n",
    "    print(disconnected)\n",
    "    p = disconnected / len(reg_graphs) \n",
    "    rsrbg_table.append([cut, number_of_cuts, disconnected, p, nc/len(rsrbg_graphs), ec/len(rsrbg_graphs), ac/len(rsrbg_graphs)])"
   ],
   "metadata": {
    "collapsed": false,
    "pycharm": {
     "name": "#%%\n"
    }
   }
  },
  {
   "cell_type": "code",
   "execution_count": null,
   "outputs": [],
   "source": [
    "rdf = pd.DataFrame(rsrbg_table, columns=['cut(%)', 'number of cuts', 'number of disconnected', 'possibility of inconsistency',\n",
    "                                        'node connectivity', 'edge connectivity', 'algebratic connectivity'])\n",
    "rdf"
   ],
   "metadata": {
    "collapsed": false,
    "pycharm": {
     "name": "#%%\n"
    }
   }
  },
  {
   "cell_type": "markdown",
   "source": [
    "### RSRBG Probability"
   ],
   "metadata": {
    "collapsed": false,
    "pycharm": {
     "name": "#%% md\n"
    }
   }
  },
  {
   "cell_type": "code",
   "execution_count": null,
   "outputs": [],
   "source": [
    "c = rdf['cut(%)']\n",
    "p = rdf['possibility of inconsistency']\n",
    "\n",
    "draw_plot(c, p, \"cut(%)\", \"probability of inconsistency\", \"probability of inconsistency pdf\")"
   ],
   "metadata": {
    "collapsed": false,
    "pycharm": {
     "name": "#%%\n"
    }
   }
  },
  {
   "cell_type": "markdown",
   "source": [
    "### RSRBG Node Connectivity "
   ],
   "metadata": {
    "collapsed": false,
    "pycharm": {
     "name": "#%% md\n"
    }
   }
  },
  {
   "cell_type": "code",
   "execution_count": null,
   "outputs": [],
   "source": [
    "c = rdf['cut(%)']\n",
    "p = rdf['node connectivity']\n",
    "\n",
    "draw_plot(c, p, \"cut(%)\", \"node connectivity\", \"node connectivity pdf\")"
   ],
   "metadata": {
    "collapsed": false,
    "pycharm": {
     "name": "#%%\n"
    }
   }
  },
  {
   "cell_type": "markdown",
   "source": [
    "### RSRBG Edge Connectivity "
   ],
   "metadata": {
    "collapsed": false,
    "pycharm": {
     "name": "#%% md\n"
    }
   }
  },
  {
   "cell_type": "code",
   "execution_count": null,
   "outputs": [],
   "source": [
    "c = rdf['cut(%)']\n",
    "p = rdf['edge connectivity']\n",
    "\n",
    "draw_plot(c, p, \"cut(%)\", \"edge connectivity\", \"edge connectivity pdf\")"
   ],
   "metadata": {
    "collapsed": false,
    "pycharm": {
     "name": "#%%\n"
    }
   }
  },
  {
   "cell_type": "markdown",
   "source": [
    "### RSRBG Algebratic Connectivity "
   ],
   "metadata": {
    "collapsed": false,
    "pycharm": {
     "name": "#%% md\n"
    }
   }
  },
  {
   "cell_type": "code",
   "execution_count": null,
   "outputs": [],
   "source": [
    "# Generate some data\n",
    "x = rdf['cut(%)']\n",
    "y = rdf['algebratic connectivity']\n",
    "\n",
    "draw_plot(x, y, \"cut(%)\", \"algebratic connectivity\", \"algebratic connectivity\")\n"
   ],
   "metadata": {
    "collapsed": false,
    "pycharm": {
     "name": "#%%\n"
    }
   }
  },
  {
   "cell_type": "markdown",
   "metadata": {},
   "source": [
    "### RSRBG Algebratic Connectivity "
   ]
  },
  {
   "cell_type": "code",
   "execution_count": 85,
   "metadata": {},
   "outputs": [
    {
     "data": {
      "image/png": "[encoded data removed]",
      "text/plain": [
       "<Figure size 640x480 with 1 Axes>"
      ]
     },
     "metadata": {},
     "output_type": "display_data"
    }
   ],
   "source": [
    "# Generate some data\n",
    "x = rdf['cut(%)']\n",
    "y = rdf['algebratic connectivity']\n",
    "\n",
    "draw_plot(x, y, \"cut(%)\", \"algebratic connectivity\", \"algebratic connectivity\")\n"
   ]
  }
 ],
 "metadata": {
  "kernelspec": {
   "display_name": "Python 3 (ipykernel)",
   "language": "python",
   "name": "python3"
  },
  "language_info": {
   "codemirror_mode": {
    "name": "ipython",
    "version": 3
   },
   "file_extension": ".py",
   "mimetype": "text/x-python",
   "name": "python",
   "nbconvert_exporter": "python",
   "pygments_lexer": "ipython3",
   "version": "3.9.16"
  }
 },
 "nbformat": 4,
 "nbformat_minor": 1
}