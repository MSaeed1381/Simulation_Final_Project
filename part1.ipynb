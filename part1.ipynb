{
 "cells": [
  {
   "cell_type": "code",
   "execution_count": 1,
   "id": "721aede6",
   "metadata": {},
   "outputs": [
    {
     "name": "stdout",
     "output_type": "stream",
     "text": [
      "Requirement already satisfied: networkx in e:\\simulation_final_project\\venv\\lib\\site-packages (3.1)\n",
      "Requirement already satisfied: numpy in e:\\simulation_final_project\\venv\\lib\\site-packages (1.24.3)\n",
      "Requirement already satisfied: matplotlib in e:\\simulation_final_project\\venv\\lib\\site-packages (3.7.1)\n",
      "Requirement already satisfied: contourpy>=1.0.1 in e:\\simulation_final_project\\venv\\lib\\site-packages (from matplotlib) (1.0.7)\n",
      "Requirement already satisfied: cycler>=0.10 in e:\\simulation_final_project\\venv\\lib\\site-packages (from matplotlib) (0.11.0)\n",
      "Requirement already satisfied: fonttools>=4.22.0 in e:\\simulation_final_project\\venv\\lib\\site-packages (from matplotlib) (4.39.4)\n",
      "Requirement already satisfied: kiwisolver>=1.0.1 in e:\\simulation_final_project\\venv\\lib\\site-packages (from matplotlib) (1.4.4)\n",
      "Requirement already satisfied: numpy>=1.20 in e:\\simulation_final_project\\venv\\lib\\site-packages (from matplotlib) (1.24.3)\n",
      "Requirement already satisfied: packaging>=20.0 in e:\\simulation_final_project\\venv\\lib\\site-packages (from matplotlib) (23.1)\n",
      "Requirement already satisfied: pillow>=6.2.0 in e:\\simulation_final_project\\venv\\lib\\site-packages (from matplotlib) (9.5.0)\n",
      "Requirement already satisfied: pyparsing>=2.3.1 in e:\\simulation_final_project\\venv\\lib\\site-packages (from matplotlib) (3.0.9)\n",
      "Requirement already satisfied: python-dateutil>=2.7 in e:\\simulation_final_project\\venv\\lib\\site-packages (from matplotlib) (2.8.2)\n",
      "Requirement already satisfied: importlib-resources>=3.2.0 in e:\\simulation_final_project\\venv\\lib\\site-packages (from matplotlib) (5.12.0)\n",
      "Requirement already satisfied: zipp>=3.1.0 in e:\\simulation_final_project\\venv\\lib\\site-packages (from importlib-resources>=3.2.0->matplotlib) (3.15.0)\n",
      "Requirement already satisfied: six>=1.5 in e:\\simulation_final_project\\venv\\lib\\site-packages (from python-dateutil>=2.7->matplotlib) (1.16.0)\n",
      "Requirement already satisfied: scipy in e:\\simulation_final_project\\venv\\lib\\site-packages (1.10.1)\n",
      "Requirement already satisfied: numpy<1.27.0,>=1.19.5 in e:\\simulation_final_project\\venv\\lib\\site-packages (from scipy) (1.24.3)\n"
     ]
    }
   ],
   "source": [
    "!pip install networkx\n",
    "!pip install numpy\n",
    "!pip install matplotlib\n",
    "!pip install scipy"
   ]
  },
  {
   "cell_type": "code",
   "execution_count": null,
   "id": "ba1bbbde",
   "metadata": {},
   "outputs": [],
   "source": [
    "import networkx as nx\n",
    "import matplotlib.pyplot as plt\n",
    "import matplotlib.mlab as mlab\n",
    "import numpy as np\n",
    "import math\n",
    "import random\n",
    "from scipy.stats import norm\n",
    "import scipy\n",
    "import sys\n",
    "import graph as gr"
   ]
  },
  {
   "cell_type": "code",
   "execution_count": null,
   "id": "6c69724c",
   "metadata": {},
   "outputs": [],
   "source": [
    "sys.setrecursionlimit(10000)"
   ]
  },
  {
   "cell_type": "markdown",
   "id": "3e6c0b71",
   "metadata": {},
   "source": [
    "# we want to model some graphs\n",
    "* Stationary model\n",
    "* Monte-Carlo : to calculate the available parameters in some types of graphs (simulate 100 to 1000 times for accept or reject a soluiton)\n",
    "* It is not dependent on time"
   ]
  },
  {
   "cell_type": "code",
   "execution_count": null,
   "id": "bddedb01",
   "metadata": {},
   "outputs": [],
   "source": [
    "# create er graph\n",
    "n = 100  # Number of nodes\n",
    "p = 0.5   # Probability of an edge between any two nodes\n",
    "\n",
    "er_graph = nx.gnp_random_graph(n, p)\n",
    "\n",
    "nx.draw(er_graph, with_labels=True)\n",
    "plt.show()"
   ]
  },
  {
   "cell_type": "code",
   "execution_count": null,
   "id": "1f0f0633",
   "metadata": {},
   "outputs": [],
   "source": [
    "gr.draw_degree_distribution(er_graph)\n",
    "print(f\"mean {np.average(er_graph.degree)}\")"
   ]
  },
  {
   "cell_type": "code",
   "execution_count": null,
   "id": "8652a051",
   "metadata": {},
   "outputs": [],
   "source": [
    "n = 100\n",
    "m = 3\n",
    "sf_graphs = []\n",
    "\n",
    "sf_graph = nx.barabasi_albert_graph(n, m)\n",
    "\n",
    "nx.draw(sf_graph, with_labels=True)\n",
    "plt.show()"
   ]
  },
  {
   "cell_type": "code",
   "execution_count": null,
   "id": "4bd5d1f5",
   "metadata": {},
   "outputs": [],
   "source": [
    "gr.draw_degree_distribution(sf_graph)\n",
    "print(f\"mean {np.average(sf_graph.degree)}\")"
   ]
  },
  {
   "cell_type": "code",
   "execution_count": null,
   "id": "881a7157",
   "metadata": {},
   "outputs": [],
   "source": [
    "n = 100\n",
    "k = 50\n",
    "p = 0.3\n",
    "\n",
    "wa_graph = nx.watts_strogatz_graph(n, k, p)\n",
    "\n",
    "nx.draw(wa_graph, with_labels=True)\n",
    "plt.show()"
   ]
  },
  {
   "cell_type": "code",
   "execution_count": null,
   "id": "1c5ee05f",
   "metadata": {},
   "outputs": [],
   "source": [
    "gr.draw_degree_distribution(wa_graph)\n",
    "print(f\"mean {np.average(wa_graph.degree)}\")"
   ]
  },
  {
   "cell_type": "code",
   "execution_count": null,
   "id": "63e5a6e4",
   "metadata": {},
   "outputs": [],
   "source": [
    "# crate 100 ER graph with size between 100 to 1000\n",
    "number_of_simulation = 100\n",
    "p = 0.5\n",
    "er_graphs = [] # ER graph dataset\n",
    "for i in range(number_of_simulation):\n",
    "    n = random.randint(100, 1000)\n",
    "    er_graphs.append(nx.gnp_random_graph(n, p))"
   ]
  },
  {
   "cell_type": "code",
   "execution_count": null,
   "id": "32bb7902",
   "metadata": {},
   "outputs": [],
   "source": [
    "# crate 100 SF graph with size between 100 to 1000\n",
    "number_of_simulation = 100\n",
    "m = 50\n",
    "sf_graphs = [] # sr graph dataset\n",
    "for i in range(number_of_simulation):\n",
    "    n = random.randint(100, 1000)\n",
    "    sf_graphs.append(nx.barabasi_albert_graph(n, m))"
   ]
  },
  {
   "cell_type": "code",
   "execution_count": null,
   "id": "caf7cdc7",
   "metadata": {},
   "outputs": [],
   "source": [
    "# crate 100 watts strogatz graph with size between 100 to 1000\n",
    "number_of_simulation = 100\n",
    "k = 50\n",
    "p = 0.3\n",
    "wa_graphs = [] # watts strogatz graph dataset\n",
    "for i in range(number_of_simulation):\n",
    "    n = random.randint(100, 1000)\n",
    "    wa_graphs.append(nx.watts_strogatz_graph(n, k, p))"
   ]
  },
  {
   "cell_type": "markdown",
   "id": "14e68a4a",
   "metadata": {},
   "source": [
    "# compare ER, SF, Watts-Strogatz Algebratic Connectivity\n",
    "### ER > SF > Watts-Strogatz"
   ]
  },
  {
   "cell_type": "code",
   "execution_count": null,
   "id": "aa2c08ba",
   "metadata": {},
   "outputs": [],
   "source": [
    "number_of_simulation = 10\n",
    "sf_algebraic_connectivity = []\n",
    "er_algebraic_connectivity = []\n",
    "wa_algebraic_connectivity = []\n",
    "\n",
    "for i in range(number_of_simulation):\n",
    "    sf_algebraic_connectivity.append(gr.algebraic_connectivity(sf_graphs[i]))\n",
    "    er_algebraic_connectivity.append(gr.algebraic_connectivity(er_graphs[i]))\n",
    "    wa_algebraic_connectivity.append(gr.algebraic_connectivity(wa_graphs[i]))\n",
    "\n",
    "print(f\"er algebratic connectivity {np.average(er_algebraic_connectivity)}\")\n",
    "print(f\"sf algebratic connectivity {np.average(sf_algebraic_connectivity)}\")\n",
    "print(f\"watts strogatz algebratic connectivity {np.average(wa_algebraic_connectivity)}\")\n"
   ]
  },
  {
   "cell_type": "markdown",
   "id": "270888a4",
   "metadata": {},
   "source": [
    "# compare ER, SF, Watts-Strogatz Spectral Gap\n",
    "\n",
    "### ER > SF > Watts-Strogatz"
   ]
  },
  {
   "cell_type": "code",
   "execution_count": null,
   "id": "3eee0ff8",
   "metadata": {},
   "outputs": [],
   "source": [
    "number_of_simulation = 10\n",
    "sf_spectral_gap = []\n",
    "er_spectral_gap = []\n",
    "wa_spectral_gap = []\n",
    "\n",
    "for i in range(number_of_simulation):\n",
    "    sf_spectral_gap.append(gr.spectral_gap(sf_graphs[i]))\n",
    "    er_spectral_gap.append(gr.spectral_gap(er_graphs[i]))\n",
    "    wa_spectral_gap.append(gr.spectral_gap(wa_graphs[i]))\n",
    "\n",
    "print(f\"er spectral gap {np.average(er_spectral_gap)}\")\n",
    "print(f\"sf spectral gap {np.average(sf_spectral_gap)}\")\n",
    "print(f\"watts strogatz spectral gap {np.average(wa_spectral_gap)}\")"
   ]
  },
  {
   "cell_type": "markdown",
   "id": "7c07fa3f",
   "metadata": {},
   "source": [
    "# compare ER, SF, Watts-Strogatz Natural Connectivity\n",
    "\n",
    "ER > SF > Watts-Strogatz"
   ]
  },
  {
   "cell_type": "code",
   "execution_count": null,
   "id": "e911b00f",
   "metadata": {},
   "outputs": [],
   "source": [
    "number_of_simulation = 10\n",
    "sf_natural_connectivity = []\n",
    "er_natural_connectivity = []\n",
    "wa_natural_connectivity = []\n",
    "\n",
    "for i in range(number_of_simulation):\n",
    "    sf_natural_connectivity.append(gr.natural_connectivity(sf_graphs[i]))\n",
    "    er_natural_connectivity.append(gr.natural_connectivity(er_graphs[i]))\n",
    "    wa_natural_connectivity.append(gr.natural_connectivity(wa_graphs[i]))\n",
    "\n",
    "print(f\"er natural connectivity {np.average(er_natural_connectivity)}\")\n",
    "print(f\"sf natural connectivity {np.average(sf_natural_connectivity)}\")\n",
    "print(f\"watts strogatz natural connectivity {np.average(wa_natural_connectivity)}\")"
   ]
  }
 ],
 "metadata": {
  "kernelspec": {
   "display_name": "Python 3 (ipykernel)",
   "language": "python",
   "name": "python3"
  },
  "language_info": {
   "codemirror_mode": {
    "name": "ipython",
    "version": 3
   },
   "file_extension": ".py",
   "mimetype": "text/x-python",
   "name": "python",
   "nbconvert_exporter": "python",
   "pygments_lexer": "ipython3",
   "version": "3.9.16"
  }
 },
 "nbformat": 4,
 "nbformat_minor": 5
}
